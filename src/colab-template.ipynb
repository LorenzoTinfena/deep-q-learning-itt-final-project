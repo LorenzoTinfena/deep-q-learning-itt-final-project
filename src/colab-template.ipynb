{
  "nbformat": 4,
  "nbformat_minor": 0,
  "metadata": {
    "orig_nbformat": 2,
    "colab": {
      "name": "tests.ipynb",
      "provenance": []
    },
    "language_info": {
      "name": "python",
      "version": "3.9.2"
    },
    "kernelspec": {
      "name": "python392jvsc74a57bd04cd7ab41f5fca4b9b44701077e38c5ffd31fe66a6cab21e0214b68d958d0e462",
      "display_name": "Python 3.9.2 64-bit"
    },
    "accelerator": "GPU"
  },
  "cells": [
    {
      "cell_type": "code",
      "metadata": {
        "id": "OhN10wEiqvy5"
      },
      "source": [
        "%%bash\n",
        "cat >> requirements.txt\n",
        "atari-py\n",
        "gym\n",
        "numpy\n",
        "opencv-python\n",
        "tensorboard\n",
        "torch\n",
        "torchvision\n",
        "pytorch-ignite\n",
        "tensorboardX\n",
        "tensorflow\n",
        "nltk\n",
        "pybullet\n",
        "ptan\n",
        "matplotlib\n",
        "gym-notebook-wrapper\n",
        "pyvirtualdisplay\n",
        "PyOpenGL\n",
        "PyOpenGL-accelerate"
      ],
      "execution_count": null,
      "outputs": []
    },
    {
      "cell_type": "code",
      "metadata": {
        "colab": {
          "base_uri": "https://localhost:8080/"
        },
        "id": "yxzENe3uOjTM",
        "outputId": "813da1c7-e8c9-4071-d8b8-703fa3457d48"
      },
      "source": [
        "%%bash\n",
        "apt-get upgrade\n",
        "apt-get update\n",
        "\n",
        "apt-get install -y --no-install-recommends \\\n",
        "       apt-utils \\\n",
        "       build-essential \\\n",
        "       curl \\\n",
        "       xvfb \\\n",
        "       ffmpeg \\\n",
        "       xorg-dev \\\n",
        "       libsdl2-dev \\\n",
        "       swig \\\n",
        "       cmake \\\n",
        "       python-opengl\n",
        "\n",
        "pip install  -r requirements.txt"
      ],
      "execution_count": null,
      "outputs": []
    },
    {
      "cell_type": "code",
      "metadata": {
        "id": "Ya01l3zW2VBo",
        "colab": {
          "base_uri": "https://localhost:8080/"
        },
        "outputId": "03ac8982-4bd4-4924-92b4-ab7947b12073"
      },
      "source": [
        "import pyvirtualdisplay\n",
        "_display = pyvirtualdisplay.Display(visible=False, size=(1400, 900))\n",
        "_ = _display.start()\n",
        "\n",
        "\n"
      ],
      "execution_count": null,
      "outputs": []
    },
    {
      "cell_type": "code",
      "execution_count": null,
      "metadata": {},
      "outputs": [],
      "source": []
    }
  ]
}