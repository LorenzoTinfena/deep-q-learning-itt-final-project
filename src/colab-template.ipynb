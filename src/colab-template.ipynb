{
  "nbformat": 4,
  "nbformat_minor": 0,
  "metadata": {
    "orig_nbformat": 2,
    "colab": {
      "name": "tests.ipynb",
      "provenance": []
    },
    "language_info": {
      "name": "python",
      "version": "3.9.4"
    },
    "kernelspec": {
      "name": "python394jvsc74a57bd04cd7ab41f5fca4b9b44701077e38c5ffd31fe66a6cab21e0214b68d958d0e462",
      "display_name": "Python 3.9.4 64-bit"
    },
    "accelerator": "GPU"
  },
  "cells": [
    {
      "cell_type": "code",
      "metadata": {
        "id": "OhN10wEiqvy5"
      },
      "source": [
        "%%bash\n",
        "cat >> requirements.txt\n",
        "atari-py\n",
        "gym\n",
        "numpy\n",
        "opencv-python\n",
        "tensorboard\n",
        "torch\n",
        "torchvision\n",
        "pytorch-ignite\n",
        "tensorboardX\n",
        "tensorflow\n",
        "nltk\n",
        "pybullet\n",
        "ptan\n",
        "matplotlib\n",
        "gym-notebook-wrapper\n",
        "pyvirtualdisplay\n",
        "PyOpenGL\n",
        "PyOpenGL-accelerate"
      ],
      "execution_count": null,
      "outputs": []
    },
    {
      "cell_type": "code",
      "metadata": {
        "colab": {
          "base_uri": "https://localhost:8080/"
        },
        "id": "yxzENe3uOjTM",
        "outputId": "813da1c7-e8c9-4071-d8b8-703fa3457d48"
      },
      "source": [
        "%%bash\n",
        "apt-get upgrade\n",
        "apt-get update\n",
        "\n",
        "apt-get install -y --no-install-recommends \\\n",
        "       apt-utils \\\n",
        "       build-essential \\\n",
        "       curl \\\n",
        "       xvfb \\\n",
        "       ffmpeg \\\n",
        "       xorg-dev \\\n",
        "       libsdl2-dev \\\n",
        "       swig \\\n",
        "       cmake \\\n",
        "       python-opengl\n",
        "\n",
        "pip install  -r requirements.txt"
      ],
      "execution_count": null,
      "outputs": []
    },
    {
      "cell_type": "code",
      "metadata": {
        "id": "Ya01l3zW2VBo",
        "colab": {
          "base_uri": "https://localhost:8080/"
        },
        "outputId": "03ac8982-4bd4-4924-92b4-ab7947b12073"
      },
      "source": [
        "import pyvirtualdisplay\n",
        "_display = pyvirtualdisplay.Display(visible=False, size=(1400, 900))\n",
        "_ = _display.start()\n",
        "\n",
        "\n"
      ],
      "execution_count": null,
      "outputs": []
    },
    {
      "cell_type": "code",
      "execution_count": null,
      "metadata": {},
      "outputs": [],
      "source": [
        "from core.DQNAgent import DQNAgent\n",
        "import gym\n",
        "import numpy as np\n",
        "import torch\n",
        "\n",
        "\n",
        "env = gym.make(\"CartPole-v1\")\n",
        "print('state_space / observation_space: ' + str(np.array(env.observation_space)))\n",
        "print('action_space: ' + str(env.action_space))\n",
        "agent = DQNAgent(env)\n",
        "\n",
        "DISCOUNT_FACTOR = 0.95\n",
        "LEARNING_RATE = 0.01\n",
        "total_rewards = []\n",
        "#training\n",
        "for i in range(1000):\n",
        "    total_reward, steps = agent.start_episode(DISCOUNT_FACTOR, LEARNING_RATE, 1, True)\n",
        "    total_rewards += total_reward"
      ]
    },
    {
      "cell_type": "code",
      "execution_count": null,
      "metadata": {},
      "outputs": [],
      "source": [
        "  fig, ax = plt.subplots()\n",
        "  total_rewards_normalized = np.array(total_rewards).reshape(-1, int(len(total_rewards)/50)).mean(axis=1)\n",
        "  ax.plot(total_rewards_normalized)\n",
        "  ax.set(xlabel='episodes', ylabel='total reward', title='Taxi-v3 Q-learning')\n",
        "  ax.grid()\n",
        "  plt.show()"
      ]
    },
    {
      "cell_type": "code",
      "execution_count": null,
      "metadata": {},
      "outputs": [],
      "source": [
        "import gym\n",
        "from IPython import display\n",
        "import matplotlib.pyplot as plt\n",
        "%matplotlib inline\n",
        "\n",
        "env = gym.make('Breakout-v0')\n",
        "env.reset()\n",
        "for _ in range(1000):\n",
        "    plt.imshow(env.render(mode='rgb_array'))\n",
        "    display.clear_output(wait=True)\n",
        "    display.display(plt.gcf())\n",
        "    env.step(env.action_space.sample())"
      ]
    },
    {
      "cell_type": "code",
      "execution_count": null,
      "metadata": {},
      "outputs": [],
      "source": []
    }
  ]
}